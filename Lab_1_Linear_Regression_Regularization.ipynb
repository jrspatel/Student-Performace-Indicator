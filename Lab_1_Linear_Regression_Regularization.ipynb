{
  "cells": [
    {
      "cell_type": "markdown",
      "metadata": {
        "id": "view-in-github",
        "colab_type": "text"
      },
      "source": [
        "<a href=\"https://colab.research.google.com/github/jrspatel/MLProj/blob/main/Lab_1_Linear_Regression_Regularization.ipynb\" target=\"_parent\"><img src=\"https://colab.research.google.com/assets/colab-badge.svg\" alt=\"Open In Colab\"/></a>"
      ]
    },
    {
      "cell_type": "code",
      "execution_count": null,
      "metadata": {
        "id": "di4OLaXsxMAE"
      },
      "outputs": [],
      "source": [
        "import pandas as pd\n",
        "import numpy as np\n",
        "import math\n",
        "from tqdm import tqdm\n",
        "from sklearn.model_selection import train_test_split"
      ]
    },
    {
      "cell_type": "code",
      "execution_count": null,
      "metadata": {
        "id": "GcXiffI1xMAF"
      },
      "outputs": [],
      "source": [
        "class LinearRegression:\n",
        "  def __init__(self,X,y,learning_rate,epsilon,max_iteraration, reg_lambda, gd , Ridge):\n",
        "    self.X = X\n",
        "    self.y = y\n",
        "    self.learning_rate = learning_rate\n",
        "    self.epsilon = epsilon\n",
        "    self.max_iteraration = max_iteraration\n",
        "    self.reg_lambda = reg_lambda\n",
        "    self.gd = gd\n",
        "    self.Ridge = Ridge\n",
        "\n",
        "  def read_data(self):\n",
        "    X_train,X_test,y_train,y_test = train_test_split(self.X,self.y,test_size=0.30\n",
        "                                                  ,shuffle=True, random_state=24)\n",
        "    return X_train,X_test,y_train,y_test\n",
        "\n",
        "  def add_X0(self,X):\n",
        "    return np.column_stack([np.ones(X.shape[0]),X])\n",
        "\n",
        "  def normalize_train_data(self,X):\n",
        "    mean = np.mean(X, axis=0)\n",
        "    std = np.std(X,axis=0)\n",
        "    X_normalized = (X-mean)/std\n",
        "    X_normalized  = self.add_X0(X_normalized)\n",
        "    return X_normalized, mean , std\n",
        "\n",
        "  def normalize_test_data(self,X, mean , std):\n",
        "    X_normalized = (X-mean)/std\n",
        "    X_normalized  = self.add_X0(X_normalized)\n",
        "    return X_normalized, mean , std\n",
        "\n",
        "  def check_full_rank(self,X):\n",
        "    rank = np.linalg.matrix_rank(X)\n",
        "\n",
        "    if rank == min(X.shape):\n",
        "      self.full_rank = True\n",
        "      print(\" the matrix is full rank\")\n",
        "    else:\n",
        "      self.full_rank = False\n",
        "      print(\" the matrix is not full rank\")\n",
        "  def check_low_rank(self,X):\n",
        "    if X.shape[1]>X.shape[0]:\n",
        "      self.low_rank = True\n",
        "      print(\" the matrix is low rank\")\n",
        "    else:\n",
        "      self.low_rank = False\n",
        "\n",
        "  def normal_equation(self,X,y):\n",
        "    self.W = np.linalg.inv(X.T.dot(X)).dot(X.T).dot(y)\n",
        "    print(\"solved by closed form sol\",self.W)\n",
        "\n",
        "  def reg_normal_equation(self,X,y):\n",
        "    self.W = (np.linalg.inv(X.T.dot(X) +\n",
        "                    self.reg_lambda*np.identity(X.shape[1])).dot(X.T).dot(y))\n",
        "    print(\"solved by closed form sol with regularization\",self.W)\n",
        "\n",
        "\n",
        "  def fit(self):\n",
        "    X_train,X_test,y_train,y_test = self.read_data()\n",
        "    X_train_norm, mean, std = self.normalize_train_data(X_train)\n",
        "    X_test_norm, mean, std = self.normalize_test_data(X_test, mean, std)\n",
        "\n",
        "    self.check_full_rank(X_train_norm)\n",
        "    self.check_low_rank(X_train_norm)\n",
        "\n",
        "    if X_train.shape[0] <= 10000 and not self.gd and \\\n",
        "       self.full_rank and not self.low_rank :\n",
        "\n",
        "       print(\"Solution by Closed form\")\n",
        "       if not self.Ridge:\n",
        "        self.normal_equation(X_train_norm,y_train)\n",
        "       else:\n",
        "        self.reg_normal_equation(X_train,y_train)\n",
        "\n",
        "    else:\n",
        "      print(\"Solution by Grafient Descent\")\n",
        "\n",
        "\n",
        "\n",
        "\n",
        "\n",
        "\n",
        "  def plot_rmse(self, error_sequence):\n",
        "      \"\"\"\n",
        "      @X: error_sequence, vector of rmse\n",
        "      @does: Plots the error function\n",
        "      @return: plot\n",
        "      \"\"\"\n",
        "      # Data for plotting\n",
        "      s = np.array(error_sequence)\n",
        "      t = np.arange(s.size)\n",
        "\n",
        "      fig, ax = plt.subplots()\n",
        "      ax.plot(t, s)\n",
        "\n",
        "      ax.set(xlabel='iterations', ylabel=self.error,\n",
        "              title='{} trend'.format(self.error))\n",
        "      ax.grid()\n",
        "\n",
        "      plt.legend(bbox_to_anchor=(1.05,1), loc=2, shadow=True)\n",
        "      plt.show()\n",
        "\n"
      ]
    },
    {
      "cell_type": "code",
      "execution_count": null,
      "metadata": {
        "id": "CbYa6nBbKURo"
      },
      "outputs": [],
      "source": [
        "df = pd.read_csv('/content/drive/MyDrive/Stats Learning/housing.csv')"
      ]
    },
    {
      "cell_type": "code",
      "execution_count": null,
      "metadata": {
        "id": "m1bOWI-4Kp3i"
      },
      "outputs": [],
      "source": [
        "reg = LinearRegression(df.values[:,:-1],df.values[:,-1:],learning_rate=0.0004,\n",
        "                       epsilon=0.005, max_iteraration=50000,reg_lambda=0.001,Ridge=False, gd=False)"
      ]
    },
    {
      "cell_type": "code",
      "execution_count": null,
      "metadata": {
        "colab": {
          "base_uri": "https://localhost:8080/"
        },
        "id": "c9K0PdKRK0Q2",
        "outputId": "77247678-0912-4d97-ee60-01618771ea26"
      },
      "outputs": [
        {
          "name": "stdout",
          "output_type": "stream",
          "text": [
            " the matrix is full rank\n",
            "Solution by Closed form\n",
            "solved by closed form sol [[22.57393768]\n",
            " [-0.85187825]\n",
            " [ 0.90176545]\n",
            " [-0.0764409 ]\n",
            " [ 0.83583908]\n",
            " [-1.51017804]\n",
            " [ 3.15765627]\n",
            " [-0.32825769]\n",
            " [-2.88559419]\n",
            " [ 1.88642025]\n",
            " [-1.60024709]\n",
            " [-1.73939501]\n",
            " [ 0.94612955]\n",
            " [-3.34416868]]\n"
          ]
        }
      ],
      "source": [
        "reg.fit()"
      ]
    },
    {
      "cell_type": "code",
      "execution_count": null,
      "metadata": {
        "colab": {
          "background_save": true,
          "base_uri": "https://localhost:8080/"
        },
        "id": "tRytA-E3MJhh",
        "outputId": "c237d1be-68e5-43ba-b972-01b0af2769ae"
      },
      "outputs": [
        {
          "name": "stdout",
          "output_type": "stream",
          "text": [
            " the matrix is full rank\n",
            "Solution by Closed form\n",
            "solved by closed form sol [[22.57393768]\n",
            " [-0.85187825]\n",
            " [ 0.90176545]\n",
            " [-0.0764409 ]\n",
            " [ 0.83583908]\n",
            " [-1.51017804]\n",
            " [ 3.15765627]\n",
            " [-0.32825769]\n",
            " [-2.88559419]\n",
            " [ 1.88642025]\n",
            " [-1.60024709]\n",
            " [-1.73939501]\n",
            " [ 0.94612955]\n",
            " [-3.34416868]]\n"
          ]
        }
      ],
      "source": [
        "reg.fit()"
      ]
    },
    {
      "cell_type": "code",
      "execution_count": null,
      "metadata": {
        "colab": {
          "base_uri": "https://localhost:8080/"
        },
        "id": "t7SgGTtkKY5A",
        "outputId": "b6aad307-3c3c-421e-ee84-c9ddc3648e26"
      },
      "outputs": [
        {
          "output_type": "stream",
          "name": "stdout",
          "text": [
            "Mounted at /content/drive\n"
          ]
        }
      ],
      "source": [
        "from google.colab import drive\n",
        "drive.mount('/content/drive')"
      ]
    }
  ],
  "metadata": {
    "colab": {
      "provenance": [],
      "include_colab_link": true
    },
    "kernelspec": {
      "display_name": "Python 3 (ipykernel)",
      "language": "python",
      "name": "python3"
    },
    "language_info": {
      "codemirror_mode": {
        "name": "ipython",
        "version": 3
      },
      "file_extension": ".py",
      "mimetype": "text/x-python",
      "name": "python",
      "nbconvert_exporter": "python",
      "pygments_lexer": "ipython3",
      "version": "3.9.7"
    }
  },
  "nbformat": 4,
  "nbformat_minor": 0
}